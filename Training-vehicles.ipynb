{
 "cells": [
  {
   "cell_type": "code",
   "execution_count": 1,
   "id": "2c24c96b",
   "metadata": {},
   "outputs": [],
   "source": [
    "import pandas as pd \n",
    "import numpy as np \n",
    "import matplotlib.pyplot as plt \n",
    "import seaborn as sns"
   ]
  },
  {
   "cell_type": "code",
   "execution_count": 2,
   "id": "69c8a139",
   "metadata": {},
   "outputs": [],
   "source": [
    "# Importing the dataset\n",
    "\n",
    "data = pd.read_csv('vehicles.csv')  # Carregando dataset"
   ]
  },
  {
   "cell_type": "code",
   "execution_count": 3,
   "id": "bf80ce80",
   "metadata": {},
   "outputs": [],
   "source": [
    "# Copying my dataset to another\n",
    "\n",
    "data2 = data.copy(deep=True) # Copiando o dataset"
   ]
  },
  {
   "cell_type": "code",
   "execution_count": 4,
   "id": "69bde55c",
   "metadata": {},
   "outputs": [
    {
     "data": {
      "text/plain": [
       "Index(['id', 'url', 'region', 'region_url', 'price', 'year', 'manufacturer',\n",
       "       'model', 'condition', 'cylinders', 'fuel', 'odometer', 'title_status',\n",
       "       'transmission', 'VIN', 'drive', 'size', 'type', 'paint_color',\n",
       "       'image_url', 'description', 'county', 'state', 'lat', 'long',\n",
       "       'posting_date'],\n",
       "      dtype='object')"
      ]
     },
     "execution_count": 4,
     "metadata": {},
     "output_type": "execute_result"
    }
   ],
   "source": [
    "# Analysing Columns\n",
    "\n",
    "data2.columns  "
   ]
  },
  {
   "cell_type": "code",
   "execution_count": 5,
   "id": "8c5723e1",
   "metadata": {},
   "outputs": [
    {
     "data": {
      "text/plain": [
       "(426880, 26)"
      ]
     },
     "execution_count": 5,
     "metadata": {},
     "output_type": "execute_result"
    }
   ],
   "source": [
    "# Shape of the dataset\n",
    "\n",
    "data2.shape"
   ]
  },
  {
   "cell_type": "code",
   "execution_count": 6,
   "id": "80850983",
   "metadata": {},
   "outputs": [
    {
     "data": {
      "text/html": [
       "<div>\n",
       "<style scoped>\n",
       "    .dataframe tbody tr th:only-of-type {\n",
       "        vertical-align: middle;\n",
       "    }\n",
       "\n",
       "    .dataframe tbody tr th {\n",
       "        vertical-align: top;\n",
       "    }\n",
       "\n",
       "    .dataframe thead th {\n",
       "        text-align: right;\n",
       "    }\n",
       "</style>\n",
       "<table border=\"1\" class=\"dataframe\">\n",
       "  <thead>\n",
       "    <tr style=\"text-align: right;\">\n",
       "      <th></th>\n",
       "      <th>id</th>\n",
       "      <th>price</th>\n",
       "      <th>year</th>\n",
       "      <th>odometer</th>\n",
       "      <th>county</th>\n",
       "      <th>lat</th>\n",
       "      <th>long</th>\n",
       "    </tr>\n",
       "  </thead>\n",
       "  <tbody>\n",
       "    <tr>\n",
       "      <th>count</th>\n",
       "      <td>4.268800e+05</td>\n",
       "      <td>4.268800e+05</td>\n",
       "      <td>425675.000000</td>\n",
       "      <td>4.224800e+05</td>\n",
       "      <td>0.0</td>\n",
       "      <td>420331.000000</td>\n",
       "      <td>420331.000000</td>\n",
       "    </tr>\n",
       "    <tr>\n",
       "      <th>mean</th>\n",
       "      <td>7.311487e+09</td>\n",
       "      <td>7.519903e+04</td>\n",
       "      <td>2011.235191</td>\n",
       "      <td>9.804333e+04</td>\n",
       "      <td>NaN</td>\n",
       "      <td>38.493940</td>\n",
       "      <td>-94.748599</td>\n",
       "    </tr>\n",
       "    <tr>\n",
       "      <th>std</th>\n",
       "      <td>4.473170e+06</td>\n",
       "      <td>1.218228e+07</td>\n",
       "      <td>9.452120</td>\n",
       "      <td>2.138815e+05</td>\n",
       "      <td>NaN</td>\n",
       "      <td>5.841533</td>\n",
       "      <td>18.365462</td>\n",
       "    </tr>\n",
       "    <tr>\n",
       "      <th>min</th>\n",
       "      <td>7.207408e+09</td>\n",
       "      <td>0.000000e+00</td>\n",
       "      <td>1900.000000</td>\n",
       "      <td>0.000000e+00</td>\n",
       "      <td>NaN</td>\n",
       "      <td>-84.122245</td>\n",
       "      <td>-159.827728</td>\n",
       "    </tr>\n",
       "    <tr>\n",
       "      <th>25%</th>\n",
       "      <td>7.308143e+09</td>\n",
       "      <td>5.900000e+03</td>\n",
       "      <td>2008.000000</td>\n",
       "      <td>3.770400e+04</td>\n",
       "      <td>NaN</td>\n",
       "      <td>34.601900</td>\n",
       "      <td>-111.939847</td>\n",
       "    </tr>\n",
       "    <tr>\n",
       "      <th>50%</th>\n",
       "      <td>7.312621e+09</td>\n",
       "      <td>1.395000e+04</td>\n",
       "      <td>2013.000000</td>\n",
       "      <td>8.554800e+04</td>\n",
       "      <td>NaN</td>\n",
       "      <td>39.150100</td>\n",
       "      <td>-88.432600</td>\n",
       "    </tr>\n",
       "    <tr>\n",
       "      <th>75%</th>\n",
       "      <td>7.315254e+09</td>\n",
       "      <td>2.648575e+04</td>\n",
       "      <td>2017.000000</td>\n",
       "      <td>1.335425e+05</td>\n",
       "      <td>NaN</td>\n",
       "      <td>42.398900</td>\n",
       "      <td>-80.832039</td>\n",
       "    </tr>\n",
       "    <tr>\n",
       "      <th>max</th>\n",
       "      <td>7.317101e+09</td>\n",
       "      <td>3.736929e+09</td>\n",
       "      <td>2022.000000</td>\n",
       "      <td>1.000000e+07</td>\n",
       "      <td>NaN</td>\n",
       "      <td>82.390818</td>\n",
       "      <td>173.885502</td>\n",
       "    </tr>\n",
       "  </tbody>\n",
       "</table>\n",
       "</div>"
      ],
      "text/plain": [
       "                 id         price           year      odometer  county  \\\n",
       "count  4.268800e+05  4.268800e+05  425675.000000  4.224800e+05     0.0   \n",
       "mean   7.311487e+09  7.519903e+04    2011.235191  9.804333e+04     NaN   \n",
       "std    4.473170e+06  1.218228e+07       9.452120  2.138815e+05     NaN   \n",
       "min    7.207408e+09  0.000000e+00    1900.000000  0.000000e+00     NaN   \n",
       "25%    7.308143e+09  5.900000e+03    2008.000000  3.770400e+04     NaN   \n",
       "50%    7.312621e+09  1.395000e+04    2013.000000  8.554800e+04     NaN   \n",
       "75%    7.315254e+09  2.648575e+04    2017.000000  1.335425e+05     NaN   \n",
       "max    7.317101e+09  3.736929e+09    2022.000000  1.000000e+07     NaN   \n",
       "\n",
       "                 lat           long  \n",
       "count  420331.000000  420331.000000  \n",
       "mean       38.493940     -94.748599  \n",
       "std         5.841533      18.365462  \n",
       "min       -84.122245    -159.827728  \n",
       "25%        34.601900    -111.939847  \n",
       "50%        39.150100     -88.432600  \n",
       "75%        42.398900     -80.832039  \n",
       "max        82.390818     173.885502  "
      ]
     },
     "execution_count": 6,
     "metadata": {},
     "output_type": "execute_result"
    }
   ],
   "source": [
    "# See the mean, variance, etc\n",
    "\n",
    "data2.describe()"
   ]
  },
  {
   "cell_type": "code",
   "execution_count": 7,
   "id": "930462e3",
   "metadata": {},
   "outputs": [],
   "source": [
    "# Drop duplicates\n",
    "\n",
    "data2.drop_duplicates(inplace = True)"
   ]
  },
  {
   "cell_type": "code",
   "execution_count": 8,
   "id": "378143fe",
   "metadata": {},
   "outputs": [
    {
     "data": {
      "text/plain": [
       "id              False\n",
       "url             False\n",
       "region          False\n",
       "region_url      False\n",
       "price           False\n",
       "year             True\n",
       "manufacturer     True\n",
       "model            True\n",
       "condition        True\n",
       "cylinders        True\n",
       "fuel             True\n",
       "odometer         True\n",
       "title_status     True\n",
       "transmission     True\n",
       "VIN              True\n",
       "drive            True\n",
       "size             True\n",
       "type             True\n",
       "paint_color      True\n",
       "image_url        True\n",
       "description      True\n",
       "county           True\n",
       "state           False\n",
       "lat              True\n",
       "long             True\n",
       "posting_date     True\n",
       "dtype: bool"
      ]
     },
     "execution_count": 8,
     "metadata": {},
     "output_type": "execute_result"
    }
   ],
   "source": [
    "# See which colunm has null values. False means that has no null value\n",
    "# We'll try to remove the nullvalues of all features\n",
    "\n",
    "data2.isnull().any()"
   ]
  },
  {
   "cell_type": "code",
   "execution_count": 9,
   "id": "46779182",
   "metadata": {},
   "outputs": [
    {
     "data": {
      "text/plain": [
       "(426880, 26)"
      ]
     },
     "execution_count": 9,
     "metadata": {},
     "output_type": "execute_result"
    }
   ],
   "source": [
    "data2.shape"
   ]
  },
  {
   "cell_type": "code",
   "execution_count": 10,
   "id": "eb0b1c7b",
   "metadata": {},
   "outputs": [
    {
     "data": {
      "text/plain": [
       "0                                                   NaN\n",
       "1                                                   NaN\n",
       "2                                                   NaN\n",
       "3                                                   NaN\n",
       "4                                                   NaN\n",
       "5                                                   NaN\n",
       "6                                                   NaN\n",
       "7                                                   NaN\n",
       "8                                                   NaN\n",
       "9                                                   NaN\n",
       "10                                                  NaN\n",
       "11                                                  NaN\n",
       "12                                                  NaN\n",
       "13                                                  NaN\n",
       "14                                                  NaN\n",
       "15                                                  NaN\n",
       "16                                                  NaN\n",
       "17                                                  NaN\n",
       "18                                                  NaN\n",
       "19                                                  NaN\n",
       "20                                                  NaN\n",
       "21                                                  NaN\n",
       "22                                                  NaN\n",
       "23                                                  NaN\n",
       "24                                                  NaN\n",
       "25                                                  NaN\n",
       "26                                                  NaN\n",
       "27    Carvana is the safer way to buy a car During t...\n",
       "28    Carvana is the safer way to buy a car During t...\n",
       "29    Carvana is the safer way to buy a car During t...\n",
       "30    Carvana is the safer way to buy a car During t...\n",
       "31    2013 F-150 XLT V6 4 Door. Good condition. Leve...\n",
       "32    Carvana is the safer way to buy a car During t...\n",
       "33    Carvana is the safer way to buy a car During t...\n",
       "34    Selling my 2019 Toyota Tacoma TRD Off Road Dou...\n",
       "35    Carvana is the safer way to buy a car During t...\n",
       "36    Carvana is the safer way to buy a car During t...\n",
       "37    192k miles brand new TSLs 4x4 jeep xj. 4x4 wor...\n",
       "38    Carvana is the safer way to buy a car During t...\n",
       "39    Carvana is the safer way to buy a car During t...\n",
       "40    Carvana is the safer way to buy a car During t...\n",
       "41    Carvana is the safer way to buy a car During t...\n",
       "42    Carvana is the safer way to buy a car During t...\n",
       "43    Carvana is the safer way to buy a car During t...\n",
       "44    Carvana is the safer way to buy a car During t...\n",
       "45    Carvana is the safer way to buy a car During t...\n",
       "46    Call or text now 800-213-0336 Open 9:00-6:00pm...\n",
       "47    Carvana is the safer way to buy a car During t...\n",
       "48    Carvana is the safer way to buy a car During t...\n",
       "49    Carvana is the safer way to buy a car During t...\n",
       "Name: description, dtype: object"
      ]
     },
     "execution_count": 10,
     "metadata": {},
     "output_type": "execute_result"
    }
   ],
   "source": [
    "# Seeing the 50 first inputs of description, the words are in differente cases\n",
    "\n",
    "data2.description.head(50)"
   ]
  },
  {
   "cell_type": "code",
   "execution_count": 11,
   "id": "432af15a",
   "metadata": {},
   "outputs": [],
   "source": [
    "# All letters of description in lowercase\n",
    "\n",
    "data2.description.astype('str').apply(lambda x: x.lower()).inplace = True  "
   ]
  },
  {
   "cell_type": "code",
   "execution_count": 13,
   "id": "68511dc2",
   "metadata": {},
   "outputs": [],
   "source": [
    "# Creating a new colunm which is the len of the text\n",
    "\n",
    "data2['text_len'] = data2.description.apply(lambda x: len(str(x)))   "
   ]
  },
  {
   "cell_type": "code",
   "execution_count": 14,
   "id": "2cf62a55",
   "metadata": {},
   "outputs": [
    {
     "data": {
      "text/plain": [
       "12084"
      ]
     },
     "execution_count": 14,
     "metadata": {},
     "output_type": "execute_result"
    }
   ],
   "source": [
    "# Seeing which text_len has size greater than 1\n",
    "\n",
    "(data2['text_len'].value_counts() > 1).sum()   "
   ]
  },
  {
   "cell_type": "code",
   "execution_count": 15,
   "id": "96a78e1a",
   "metadata": {},
   "outputs": [
    {
     "data": {
      "text/plain": [
       "<AxesSubplot:>"
      ]
     },
     "execution_count": 15,
     "metadata": {},
     "output_type": "execute_result"
    },
    {
     "data": {
      "image/png": "[encoded data removed]",
      "text/plain": [
       "<Figure size 432x288 with 1 Axes>"
      ]
     },
     "metadata": {
      "needs_background": "light"
     },
     "output_type": "display_data"
    }
   ],
   "source": [
    "# Plotting the cylinders values\n",
    "\n",
    "data2.cylinders.value_counts().plot(kind='bar')"
   ]
  },
  {
   "cell_type": "code",
   "execution_count": 16,
   "id": "b350e04c",
   "metadata": {},
   "outputs": [
    {
     "data": {
      "text/plain": [
       "dtype('O')"
      ]
     },
     "execution_count": 16,
     "metadata": {},
     "output_type": "execute_result"
    }
   ],
   "source": [
    "# Cylinders type\n",
    "\n",
    "data2.cylinders.dtype"
   ]
  },
  {
   "cell_type": "code",
   "execution_count": 17,
   "id": "14bbbd38",
   "metadata": {},
   "outputs": [
    {
     "data": {
      "text/plain": [
       "6 cylinders     94169\n",
       "4 cylinders     77642\n",
       "8 cylinders     72062\n",
       "5 cylinders      1712\n",
       "10 cylinders     1455\n",
       "other            1298\n",
       "3 cylinders       655\n",
       "12 cylinders      209\n",
       "Name: cylinders, dtype: int64"
      ]
     },
     "execution_count": 17,
     "metadata": {},
     "output_type": "execute_result"
    }
   ],
   "source": [
    "# Counting values from cylinders\n",
    "\n",
    "data2.cylinders.value_counts()"
   ]
  },
  {
   "cell_type": "code",
   "execution_count": 18,
   "id": "6a57820b",
   "metadata": {},
   "outputs": [],
   "source": [
    "# Adjusting strings to float values only. Replace every string 'cylinders' for \"\" and strip the spaces\n",
    "\n",
    "data2.cylinders = data2.cylinders.apply(lambda x: str(x).replace('cylinders', \"\").strip())  "
   ]
  },
  {
   "cell_type": "code",
   "execution_count": 19,
   "id": "b00acef8",
   "metadata": {},
   "outputs": [
    {
     "data": {
      "text/plain": [
       "nan      177678\n",
       "6         94169\n",
       "4         77642\n",
       "8         72062\n",
       "5          1712\n",
       "10         1455\n",
       "other      1298\n",
       "3           655\n",
       "12          209\n",
       "Name: cylinders, dtype: int64"
      ]
     },
     "execution_count": 19,
     "metadata": {},
     "output_type": "execute_result"
    }
   ],
   "source": [
    "# Now we just have float values!\n",
    "\n",
    "data2.cylinders.value_counts()  "
   ]
  },
  {
   "cell_type": "code",
   "execution_count": 20,
   "id": "ef38d348",
   "metadata": {},
   "outputs": [],
   "source": [
    "# We still have nan values, so we'll drop them.\n",
    "\n",
    "\n",
    "data2.cylinders = pd.to_numeric(data2.cylinders, errors = 'coerce') "
   ]
  },
  {
   "cell_type": "code",
   "execution_count": 21,
   "id": "1d82a31a",
   "metadata": {},
   "outputs": [
    {
     "data": {
      "text/plain": [
       "6.0     94169\n",
       "4.0     77642\n",
       "8.0     72062\n",
       "5.0      1712\n",
       "10.0     1455\n",
       "3.0       655\n",
       "12.0      209\n",
       "Name: cylinders, dtype: int64"
      ]
     },
     "execution_count": 21,
     "metadata": {},
     "output_type": "execute_result"
    }
   ],
   "source": [
    "# Finally we have just float values\n",
    "\n",
    "data2.cylinders.value_counts()"
   ]
  },
  {
   "cell_type": "code",
   "execution_count": 22,
   "id": "a35e4816",
   "metadata": {},
   "outputs": [
    {
     "data": {
      "text/plain": [
       "<AxesSubplot:>"
      ]
     },
     "execution_count": 22,
     "metadata": {},
     "output_type": "execute_result"
    },
    {
     "data": {
      "image/png": "[encoded data removed]",
      "text/plain": [
       "<Figure size 432x288 with 1 Axes>"
      ]
     },
     "metadata": {
      "needs_background": "light"
     },
     "output_type": "display_data"
    }
   ],
   "source": [
    "# We can see that has a lot of outliers on price feature\n",
    "\n",
    "data2.boxplot('price') "
   ]
  },
  {
   "cell_type": "code",
   "execution_count": 23,
   "id": "6ddc8402",
   "metadata": {},
   "outputs": [
    {
     "data": {
      "text/plain": [
       "array([[<AxesSubplot:title={'center':'price'}>]], dtype=object)"
      ]
     },
     "execution_count": 23,
     "metadata": {},
     "output_type": "execute_result"
    },
    {
     "data": {
      "image/png": "[encoded data removed]",
      "text/plain": [
       "<Figure size 432x288 with 1 Axes>"
      ]
     },
     "metadata": {
      "needs_background": "light"
     },
     "output_type": "display_data"
    }
   ],
   "source": [
    "# We can see the outliers on the graph\n",
    "\n",
    "data2.hist('price')"
   ]
  },
  {
   "cell_type": "code",
   "execution_count": 24,
   "id": "04f483d2",
   "metadata": {},
   "outputs": [],
   "source": [
    "# We'll remove the outliers now on Odomoter and Price\n",
    "\n",
    "\n",
    "data2_outliers = data2[(data2.price < data2.price.quantile(.995)) & (data2.price > data2.price.quantile(.005)) & (data2.price != 0) & (data2.odometer != 0)]  \n",
    "data2_outliers = data2_outliers[(data2_outliers.odometer < data2_outliers.odometer.quantile(.995)) & (data2_outliers.odometer > data2_outliers.odometer.quantile(.005))]"
   ]
  },
  {
   "cell_type": "code",
   "execution_count": 25,
   "id": "1457d2ab",
   "metadata": {},
   "outputs": [
    {
     "data": {
      "text/plain": [
       "array([[<AxesSubplot:title={'center':'price'}>]], dtype=object)"
      ]
     },
     "execution_count": 25,
     "metadata": {},
     "output_type": "execute_result"
    },
    {
     "data": {
      "image/png": "[encoded data removed]",
      "text/plain": [
       "<Figure size 432x288 with 1 Axes>"
      ]
     },
     "metadata": {
      "needs_background": "light"
     },
     "output_type": "display_data"
    }
   ],
   "source": [
    "# Now we have almost a normal distribution on price\n",
    "\n",
    "data2_outliers[['price']].hist()"
   ]
  },
  {
   "cell_type": "code",
   "execution_count": 26,
   "id": "ede5167c",
   "metadata": {},
   "outputs": [
    {
     "data": {
      "text/plain": [
       "array([[<AxesSubplot:title={'center':'odometer'}>]], dtype=object)"
      ]
     },
     "execution_count": 26,
     "metadata": {},
     "output_type": "execute_result"
    },
    {
     "data": {
      "image/png": "[encoded data removed]",
      "text/plain": [
       "<Figure size 432x288 with 1 Axes>"
      ]
     },
     "metadata": {
      "needs_background": "light"
     },
     "output_type": "display_data"
    }
   ],
   "source": [
    "# Seeing odometer plot\n",
    "\n",
    "data2_outliers[['odometer']].hist()"
   ]
  },
  {
   "cell_type": "code",
   "execution_count": 27,
   "id": "e4d5fa00",
   "metadata": {},
   "outputs": [
    {
     "data": {
      "text/plain": [
       "array([[<AxesSubplot:title={'center':'text_len'}>]], dtype=object)"
      ]
     },
     "execution_count": 27,
     "metadata": {},
     "output_type": "execute_result"
    },
    {
     "data": {
      "image/png": "[encoded data removed]",
      "text/plain": [
       "<Figure size 432x288 with 1 Axes>"
      ]
     },
     "metadata": {
      "needs_background": "light"
     },
     "output_type": "display_data"
    }
   ],
   "source": [
    "# We can see the plot of text_len\n",
    "\n",
    "data2_outliers[['text_len']].hist()"
   ]
  },
  {
   "cell_type": "code",
   "execution_count": 28,
   "id": "3d24cffd",
   "metadata": {},
   "outputs": [
    {
     "data": {
      "text/plain": [
       "id              0.000000\n",
       "url             0.000000\n",
       "region          0.000000\n",
       "region_url      0.000000\n",
       "price           0.000000\n",
       "year            0.002823\n",
       "manufacturer    0.041337\n",
       "model           0.012362\n",
       "condition       0.407852\n",
       "cylinders       0.419265\n",
       "fuel            0.007058\n",
       "odometer        0.010307\n",
       "title_status    0.019308\n",
       "transmission    0.005988\n",
       "VIN             0.377254\n",
       "drive           0.305863\n",
       "size            0.717675\n",
       "type            0.217527\n",
       "paint_color     0.305011\n",
       "image_url       0.000159\n",
       "description     0.000164\n",
       "county          1.000000\n",
       "state           0.000000\n",
       "lat             0.015342\n",
       "long            0.015342\n",
       "posting_date    0.000159\n",
       "text_len        0.000000\n",
       "dtype: float64"
      ]
     },
     "execution_count": 28,
     "metadata": {},
     "output_type": "execute_result"
    }
   ],
   "source": [
    "# Now we'll check the percentage of null values each features has before we took the outliers out\n",
    "\n",
    "data2.isnull().sum()/ data2.shape[0]"
   ]
  },
  {
   "cell_type": "code",
   "execution_count": 29,
   "id": "2f253060",
   "metadata": {},
   "outputs": [
    {
     "data": {
      "text/plain": [
       "id              0.000000\n",
       "url             0.000000\n",
       "region          0.000000\n",
       "region_url      0.000000\n",
       "price           0.000000\n",
       "year            0.002673\n",
       "manufacturer    0.037691\n",
       "model           0.011024\n",
       "condition       0.381215\n",
       "cylinders       0.406930\n",
       "fuel            0.005893\n",
       "odometer        0.000000\n",
       "title_status    0.018443\n",
       "transmission    0.003779\n",
       "VIN             0.382921\n",
       "drive           0.302921\n",
       "size            0.716753\n",
       "type            0.215013\n",
       "paint_color     0.293294\n",
       "image_url       0.000000\n",
       "description     0.000005\n",
       "county          1.000000\n",
       "state           0.000000\n",
       "lat             0.008608\n",
       "long            0.008608\n",
       "posting_date    0.000000\n",
       "text_len        0.000000\n",
       "dtype: float64"
      ]
     },
     "execution_count": 29,
     "metadata": {},
     "output_type": "execute_result"
    }
   ],
   "source": [
    "# After we removed we can see that the null values on odomoter went to 0\n",
    "\n",
    "data2_outliers.isnull().sum()/ data2_outliers.shape[0]  "
   ]
  },
  {
   "cell_type": "code",
   "execution_count": 30,
   "id": "5884c16d",
   "metadata": {},
   "outputs": [],
   "source": [
    "# We'll remove the null values on features that has low percentages of null values.\n",
    "\n",
    "data2_outliers.dropna(subset=['year','manufacturer','fuel','title_status','transmission','description','lat','long','model'],inplace=True) "
   ]
  },
  {
   "cell_type": "code",
   "execution_count": 31,
   "id": "ba895a06",
   "metadata": {},
   "outputs": [
    {
     "data": {
      "text/plain": [
       "id              0.000000\n",
       "url             0.000000\n",
       "region          0.000000\n",
       "region_url      0.000000\n",
       "price           0.000000\n",
       "year            0.000000\n",
       "manufacturer    0.000000\n",
       "model           0.000000\n",
       "condition       0.376199\n",
       "cylinders       0.411326\n",
       "fuel            0.000000\n",
       "odometer        0.000000\n",
       "title_status    0.000000\n",
       "transmission    0.000000\n",
       "VIN             0.379992\n",
       "drive           0.296823\n",
       "size            0.715610\n",
       "type            0.213549\n",
       "paint_color     0.282466\n",
       "image_url       0.000000\n",
       "description     0.000000\n",
       "county          1.000000\n",
       "state           0.000000\n",
       "lat             0.000000\n",
       "long            0.000000\n",
       "posting_date    0.000000\n",
       "text_len        0.000000\n",
       "dtype: float64"
      ]
     },
     "execution_count": 31,
     "metadata": {},
     "output_type": "execute_result"
    }
   ],
   "source": [
    "# Now we have less null values\n",
    "\n",
    "data2_outliers.isnull().sum()/data2_outliers.shape[0]    "
   ]
  },
  {
   "cell_type": "code",
   "execution_count": 32,
   "id": "b0a99086",
   "metadata": {},
   "outputs": [
    {
     "data": {
      "text/plain": [
       "id              0.000000\n",
       "url             0.000000\n",
       "region          0.000000\n",
       "region_url      0.000000\n",
       "price           0.000000\n",
       "year            0.000000\n",
       "manufacturer    0.000000\n",
       "model           0.000000\n",
       "condition       0.376199\n",
       "cylinders       0.000000\n",
       "fuel            0.000000\n",
       "odometer        0.000000\n",
       "title_status    0.000000\n",
       "transmission    0.000000\n",
       "VIN             0.379992\n",
       "drive           0.296823\n",
       "size            0.715610\n",
       "type            0.213549\n",
       "paint_color     0.282466\n",
       "image_url       0.000000\n",
       "description     0.000000\n",
       "county          1.000000\n",
       "state           0.000000\n",
       "lat             0.000000\n",
       "long            0.000000\n",
       "posting_date    0.000000\n",
       "text_len        0.000000\n",
       "dtype: float64"
      ]
     },
     "execution_count": 32,
     "metadata": {},
     "output_type": "execute_result"
    }
   ],
   "source": [
    "# Let's fill the null values of cylinders with it's median\n",
    "\n",
    "data2_outliers.cylinders.fillna(data2_outliers.cylinders.median(), inplace = True) \n",
    "data2_outliers.isnull().sum()/data2_outliers.shape[0]    "
   ]
  },
  {
   "cell_type": "code",
   "execution_count": 33,
   "id": "48a05317",
   "metadata": {},
   "outputs": [
    {
     "data": {
      "text/plain": [
       "id              0.00000\n",
       "url             0.00000\n",
       "region          0.00000\n",
       "region_url      0.00000\n",
       "price           0.00000\n",
       "year            0.00000\n",
       "manufacturer    0.00000\n",
       "model           0.00000\n",
       "condition       0.00000\n",
       "cylinders       0.00000\n",
       "fuel            0.00000\n",
       "odometer        0.00000\n",
       "title_status    0.00000\n",
       "transmission    0.00000\n",
       "VIN             0.00000\n",
       "drive           0.00000\n",
       "size            0.71561\n",
       "type            0.00000\n",
       "paint_color     0.00000\n",
       "image_url       0.00000\n",
       "description     0.00000\n",
       "county          1.00000\n",
       "state           0.00000\n",
       "lat             0.00000\n",
       "long            0.00000\n",
       "posting_date    0.00000\n",
       "text_len        0.00000\n",
       "dtype: float64"
      ]
     },
     "execution_count": 33,
     "metadata": {},
     "output_type": "execute_result"
    }
   ],
   "source": [
    "# For the categorical, object features, we'll fill the null values with 'n/a'\n",
    "\n",
    "data2_outliers[['condition','VIN','drive','type','paint_color']] = data2_outliers[['condition','VIN','drive','type','paint_color']].fillna('n/a') \n",
    "data2_outliers.isnull().sum()/data2_outliers.shape[0]  "
   ]
  },
  {
   "cell_type": "code",
   "execution_count": 34,
   "id": "986bde2b",
   "metadata": {},
   "outputs": [
    {
     "data": {
      "text/plain": [
       "0                   NaN\n",
       "1                   NaN\n",
       "2                   NaN\n",
       "3                   NaN\n",
       "4                   NaN\n",
       "5                   NaN\n",
       "6                   NaN\n",
       "7                   NaN\n",
       "8                   NaN\n",
       "9                   NaN\n",
       "10                  NaN\n",
       "11                  NaN\n",
       "12                  NaN\n",
       "13                  NaN\n",
       "14                  NaN\n",
       "15                  NaN\n",
       "16                  NaN\n",
       "17                  NaN\n",
       "18                  NaN\n",
       "19                  NaN\n",
       "20                  NaN\n",
       "21                  NaN\n",
       "22                  NaN\n",
       "23                  NaN\n",
       "24                  NaN\n",
       "25                  NaN\n",
       "26                  NaN\n",
       "27    3GTP1VEC4EG551563\n",
       "28    1GCSCSE06AZ123805\n",
       "29    3GCPWCED5LG130317\n",
       "30    5TFRM5F17HX120972\n",
       "31                  NaN\n",
       "32    1GT220CG8CZ231238\n",
       "33    1GCVKREH6GZ228691\n",
       "34                  NaN\n",
       "35    1GCHTCE37G1186784\n",
       "36    1G1YR3DW3B5102190\n",
       "37                  NaN\n",
       "38    1C4BJWDG5HL705371\n",
       "39    1GCNCNEH7HZ118773\n",
       "40    1GCGTDE32G1341288\n",
       "41    5TFTX4CN3EX042751\n",
       "42    1G1FF1R79G0140582\n",
       "43    5TFEY5F15EX169621\n",
       "44    1FTER4EH3KLA31326\n",
       "45    1N6AD0EV5JN745213\n",
       "46                  NaN\n",
       "47    1FTEX1CBXJKD41626\n",
       "48    3TMAZ5CN7GM019182\n",
       "49    1C4GJXAN4LW180633\n",
       "Name: VIN, dtype: object"
      ]
     },
     "execution_count": 34,
     "metadata": {},
     "output_type": "execute_result"
    }
   ],
   "source": [
    "# Let's take a closer lok on VIN\n",
    "\n",
    "data2.VIN.head(50) "
   ]
  },
  {
   "cell_type": "code",
   "execution_count": 37,
   "id": "cf2d8bc0",
   "metadata": {},
   "outputs": [],
   "source": [
    "# It makes more sense than having a lot of numbers and letter, to know if a car has identification or not\n",
    "\n",
    "data2_outliers.VIN= data2_outliers.VIN.apply(lambda x: 'has_vin' if x != 'n/a' else 'no_vin') "
   ]
  },
  {
   "cell_type": "code",
   "execution_count": 38,
   "id": "9979bd83",
   "metadata": {},
   "outputs": [],
   "source": [
    "# Drop some features I thought wouldn't help the model a lot. Special note for size which has too many null values\n",
    "\n",
    "data_final = data2_outliers.drop(['url','region','region_url','size','county','posting_date','lat','long','image_url','state'], axis = 1) "
   ]
  },
  {
   "cell_type": "code",
   "execution_count": 39,
   "id": "f68d6a08",
   "metadata": {},
   "outputs": [
    {
     "data": {
      "text/plain": [
       "27     8.0\n",
       "28    12.0\n",
       "29     2.0\n",
       "30     5.0\n",
       "31     9.0\n",
       "32    10.0\n",
       "33     6.0\n",
       "34     3.0\n",
       "35     6.0\n",
       "36    11.0\n",
       "37    30.0\n",
       "38     5.0\n",
       "39     5.0\n",
       "40     6.0\n",
       "41     8.0\n",
       "42     6.0\n",
       "43     8.0\n",
       "44     3.0\n",
       "45     4.0\n",
       "47     4.0\n",
       "Name: age, dtype: float64"
      ]
     },
     "execution_count": 39,
     "metadata": {},
     "output_type": "execute_result"
    }
   ],
   "source": [
    "# Let's create a new feature 'age' instead of taking the year input\n",
    "\n",
    "data_final['age'] = 2022 - data_final.year   \n",
    "data_final.age.head(20)"
   ]
  },
  {
   "cell_type": "code",
   "execution_count": 40,
   "id": "0a65cafb",
   "metadata": {},
   "outputs": [
    {
     "data": {
      "text/plain": [
       "<AxesSubplot:>"
      ]
     },
     "execution_count": 40,
     "metadata": {},
     "output_type": "execute_result"
    },
    {
     "data": {
      "image/png": "[encoded data removed]",
      "text/plain": [
       "<Figure size 432x288 with 1 Axes>"
      ]
     },
     "metadata": {
      "needs_background": "light"
     },
     "output_type": "display_data"
    }
   ],
   "source": [
    "# Plotting age \n",
    "\n",
    "data_final.age.hist()"
   ]
  },
  {
   "cell_type": "code",
   "execution_count": 41,
   "id": "2c52fed3",
   "metadata": {},
   "outputs": [
    {
     "data": {
      "text/plain": [
       "<AxesSubplot:>"
      ]
     },
     "execution_count": 41,
     "metadata": {},
     "output_type": "execute_result"
    },
    {
     "data": {
      "image/png": "[encoded data removed]",
      "text/plain": [
       "<Figure size 432x288 with 1 Axes>"
      ]
     },
     "metadata": {
      "needs_background": "light"
     },
     "output_type": "display_data"
    }
   ],
   "source": [
    "# Cylinders plot\n",
    "\n",
    "data_final.cylinders.hist()"
   ]
  },
  {
   "cell_type": "code",
   "execution_count": 42,
   "id": "7158dcfc",
   "metadata": {},
   "outputs": [
    {
     "name": "stdout",
     "output_type": "stream",
     "text": [
      "<class 'pandas.core.frame.DataFrame'>\n",
      "Int64Index: 353005 entries, 27 to 426879\n",
      "Data columns (total 18 columns):\n",
      " #   Column        Non-Null Count   Dtype  \n",
      "---  ------        --------------   -----  \n",
      " 0   id            353005 non-null  int64  \n",
      " 1   price         353005 non-null  int64  \n",
      " 2   year          353005 non-null  float64\n",
      " 3   manufacturer  353005 non-null  object \n",
      " 4   model         353005 non-null  object \n",
      " 5   condition     353005 non-null  object \n",
      " 6   cylinders     353005 non-null  float64\n",
      " 7   fuel          353005 non-null  object \n",
      " 8   odometer      353005 non-null  float64\n",
      " 9   title_status  353005 non-null  object \n",
      " 10  transmission  353005 non-null  object \n",
      " 11  VIN           353005 non-null  object \n",
      " 12  drive         353005 non-null  object \n",
      " 13  type          353005 non-null  object \n",
      " 14  paint_color   353005 non-null  object \n",
      " 15  description   353005 non-null  object \n",
      " 16  text_len      353005 non-null  int64  \n",
      " 17  age           353005 non-null  float64\n",
      "dtypes: float64(4), int64(3), object(11)\n",
      "memory usage: 51.2+ MB\n"
     ]
    }
   ],
   "source": [
    "# We can see the types of values and the null values for each feature\n",
    "\n",
    "data_final.info() "
   ]
  },
  {
   "cell_type": "code",
   "execution_count": 43,
   "id": "d7388d5a",
   "metadata": {},
   "outputs": [
    {
     "data": {
      "image/png": "[encoded data removed]",
      "text/plain": [
       "<Figure size 432x288 with 2 Axes>"
      ]
     },
     "metadata": {
      "needs_background": "light"
     },
     "output_type": "display_data"
    }
   ],
   "source": [
    "# Know we can look at the correlation table and see how each feature correlates with the others\n",
    "\n",
    "numeric = data_final._get_numeric_data()    \n",
    "\n",
    "corrdata = numeric\n",
    "\n",
    "corr = corrdata.corr()\n",
    "ax = sns.heatmap(\n",
    "    corr, \n",
    "    vmin=-1, vmax=1, center=0,\n",
    "    cmap=sns.diverging_palette(20, 220, n=200),\n",
    "    square=True\n",
    ")\n",
    "ax.set_xticklabels(\n",
    "    ax.get_xticklabels(),\n",
    "    rotation=45,\n",
    "    horizontalalignment='right'\n",
    ");"
   ]
  },
  {
   "cell_type": "code",
   "execution_count": 44,
   "id": "ee2b2723",
   "metadata": {},
   "outputs": [
    {
     "data": {
      "image/png": "[encoded data removed]",
      "text/plain": [
       "<Figure size 432x288 with 1 Axes>"
      ]
     },
     "metadata": {
      "needs_background": "light"
     },
     "output_type": "display_data"
    }
   ],
   "source": [
    "# Plotting a few features to see how they behave compared to price\n",
    "\n",
    "ax = sns.barplot(x=\"condition\", y=\"price\", data=data_final)  "
   ]
  },
  {
   "cell_type": "code",
   "execution_count": 45,
   "id": "0d8c1261",
   "metadata": {},
   "outputs": [
    {
     "data": {
      "image/png": "[encoded data removed]",
      "text/plain": [
       "<Figure size 432x288 with 1 Axes>"
      ]
     },
     "metadata": {
      "needs_background": "light"
     },
     "output_type": "display_data"
    }
   ],
   "source": [
    "# Plotting Cylinders x Price\n",
    "\n",
    "ax = sns.barplot(x=\"cylinders\", y=\"price\", data=data_final)"
   ]
  },
  {
   "cell_type": "code",
   "execution_count": 47,
   "id": "e08996a3",
   "metadata": {},
   "outputs": [
    {
     "data": {
      "text/plain": [
       "<seaborn.axisgrid.FacetGrid at 0x169440b3cd0>"
      ]
     },
     "execution_count": 47,
     "metadata": {},
     "output_type": "execute_result"
    },
    {
     "data": {
      "image/png": "[encoded data removed]",
      "text/plain": [
       "<Figure size 360x360 with 1 Axes>"
      ]
     },
     "metadata": {
      "needs_background": "light"
     },
     "output_type": "display_data"
    }
   ],
   "source": [
    "# Plotting Fuel x Price\n",
    "\n",
    "sns.catplot(x=\"fuel\", y=\"price\", kind=\"boxen\", data=data_final) "
   ]
  },
  {
   "cell_type": "code",
   "execution_count": 48,
   "id": "c904da36",
   "metadata": {},
   "outputs": [
    {
     "data": {
      "text/plain": [
       "<seaborn.axisgrid.FacetGrid at 0x16b12bd5be0>"
      ]
     },
     "execution_count": 48,
     "metadata": {},
     "output_type": "execute_result"
    },
    {
     "data": {
      "image/png": "[encoded data removed]",
      "text/plain": [
       "<Figure size 360x360 with 1 Axes>"
      ]
     },
     "metadata": {
      "needs_background": "light"
     },
     "output_type": "display_data"
    }
   ],
   "source": [
    "# Plotting Actual Status x Price\n",
    "\n",
    "sns.catplot(x=\"title_status\", y=\"price\",kind=\"violin\", data=data_final) "
   ]
  },
  {
   "cell_type": "code",
   "execution_count": 49,
   "id": "631475a6",
   "metadata": {},
   "outputs": [
    {
     "data": {
      "text/plain": [
       "<seaborn.axisgrid.FacetGrid at 0x16b12bd5f70>"
      ]
     },
     "execution_count": 49,
     "metadata": {},
     "output_type": "execute_result"
    },
    {
     "data": {
      "image/png": "[encoded data removed]",
      "text/plain": [
       "<Figure size 360x360 with 1 Axes>"
      ]
     },
     "metadata": {
      "needs_background": "light"
     },
     "output_type": "display_data"
    }
   ],
   "source": [
    "# Plotting Transmission x Price\n",
    "\n",
    "sns.catplot(x=\"transmission\", y=\"price\",kind=\"bar\", palette=\"ch:.25\", data=data_final)  "
   ]
  },
  {
   "cell_type": "code",
   "execution_count": 50,
   "id": "7137f137",
   "metadata": {},
   "outputs": [
    {
     "data": {
      "image/png": "[encoded data removed]",
      "text/plain": [
       "<Figure size 360x360 with 1 Axes>"
      ]
     },
     "metadata": {
      "needs_background": "light"
     },
     "output_type": "display_data"
    }
   ],
   "source": [
    "# Plotting Type of Vehicle x Price\n",
    "\n",
    "sns.catplot(y=\"type\", x=\"price\",kind=\"boxen\", data=data_final);  "
   ]
  },
  {
   "cell_type": "code",
   "execution_count": 51,
   "id": "349aa56d",
   "metadata": {},
   "outputs": [
    {
     "data": {
      "image/png": "[encoded data removed]",
      "text/plain": [
       "<Figure size 360x360 with 1 Axes>"
      ]
     },
     "metadata": {
      "needs_background": "light"
     },
     "output_type": "display_data"
    }
   ],
   "source": [
    "# Plotting Paint Colors x Price\n",
    "\n",
    "sns.catplot(y=\"paint_color\", x=\"price\",kind=\"violin\", data=data_final);  "
   ]
  },
  {
   "cell_type": "code",
   "execution_count": 65,
   "id": "8b2c7389",
   "metadata": {},
   "outputs": [],
   "source": [
    "from sklearn.model_selection import cross_val_score\n",
    "from sklearn.model_selection import train_test_split\n",
    "from sklearn.linear_model import LinearRegression\n",
    "from sklearn import tree\n",
    "from sklearn.ensemble import RandomForestRegressor\n",
    "from sklearn.preprocessing import StandardScaler\n",
    "from sklearn import metrics\n",
    "from sklearn.metrics import mean_squared_error as MSEE\n",
    "from sklearn.preprocessing import MinMaxScaler\n",
    "from sklearn.preprocessing import PolynomialFeatures\n",
    "from sklearn.preprocessing import scale\n",
    "from sklearn.feature_selection import RFE\n",
    "from sklearn.model_selection import cross_val_score\n",
    "from sklearn.model_selection import KFold\n",
    "from sklearn.model_selection import GridSearchCV\n",
    "from sklearn.pipeline import make_pipeline\n",
    "\n",
    "import warnings # supress warnings\n",
    "warnings.filterwarnings('ignore')"
   ]
  },
  {
   "cell_type": "code",
   "execution_count": 53,
   "id": "22887f61",
   "metadata": {},
   "outputs": [],
   "source": [
    "# We're going to normalize odometer and age\n",
    "\n",
    "scale = StandardScaler() \n",
    "data_final[['odometer','age']] = scale.fit_transform(data_final[['odometer','age']]) "
   ]
  },
  {
   "cell_type": "code",
   "execution_count": 62,
   "id": "e7384031",
   "metadata": {},
   "outputs": [
    {
     "data": {
      "text/plain": [
       "<bound method DataFrame.info of         odometer       age\n",
       "27     -0.561701 -0.295216\n",
       "28     -0.347469  0.171837\n",
       "29     -1.185802 -0.995795\n",
       "30     -0.832172 -0.645505\n",
       "31      0.566568 -0.178453\n",
       "...          ...       ...\n",
       "426875 -0.975434 -0.879032\n",
       "426876 -1.300614 -0.995795\n",
       "426877 -1.427083 -0.995795\n",
       "426878 -1.009470 -0.762269\n",
       "426879 -1.128549 -0.879032\n",
       "\n",
       "[353005 rows x 2 columns]>"
      ]
     },
     "execution_count": 62,
     "metadata": {},
     "output_type": "execute_result"
    }
   ],
   "source": [
    "# We can see that they are between a certain range\n",
    "\n",
    "data_final[['odometer','age']].info"
   ]
  },
  {
   "cell_type": "code",
   "execution_count": 55,
   "id": "b150dd36",
   "metadata": {},
   "outputs": [],
   "source": [
    "# Define X and y sets with our parameters\n",
    "\n",
    "X = pd.get_dummies(data_final[['id','odometer','condition','fuel','transmission','paint_color','VIN','drive','type','age']]) \n",
    "y = data_final.price.values "
   ]
  },
  {
   "cell_type": "code",
   "execution_count": 56,
   "id": "f49992b8",
   "metadata": {},
   "outputs": [],
   "source": [
    "# Defining train and test sets\n",
    "\n",
    "X_train, X_test, y_train, y_test = train_test_split(X, y, test_size=0.3, random_state=0) "
   ]
  },
  {
   "cell_type": "code",
   "execution_count": 63,
   "id": "d5d27799",
   "metadata": {},
   "outputs": [],
   "source": [
    "# Testing RandomForest\n",
    "\n",
    "regressor = RandomForestRegressor(n_estimators=30, random_state=2) \n",
    "regressor.fit(X_train, y_train)\n",
    "y_pred = regressor.predict(X_test)"
   ]
  },
  {
   "cell_type": "code",
   "execution_count": 64,
   "id": "333125ff",
   "metadata": {},
   "outputs": [
    {
     "name": "stdout",
     "output_type": "stream",
     "text": [
      "Mean Absolute Error: 3016.16\n",
      "Mean Squared Error: 31669794.14\n",
      "Root Mean Squared Error: 5627.59\n",
      "83.40161148625648\n"
     ]
    }
   ],
   "source": [
    "#Metrics\n",
    "\n",
    "print('Mean Absolute Error:', round(metrics.mean_absolute_error(y_test, y_pred),2))\n",
    "print('Mean Squared Error:', round(metrics.mean_squared_error(y_test, y_pred),2))\n",
    "print('Root Mean Squared Error:', round(np.sqrt(metrics.mean_squared_error(y_test, y_pred)),2))\n",
    "print(regressor.score(X_test,y_test)*100)"
   ]
  },
  {
   "cell_type": "code",
   "execution_count": 59,
   "id": "270ed537",
   "metadata": {},
   "outputs": [],
   "source": [
    "# Testing Linear Regression\n",
    "\n",
    "reg = LinearRegression().fit(X_train, y_train) \n",
    "y_pred = reg.predict(X_test)"
   ]
  },
  {
   "cell_type": "code",
   "execution_count": 60,
   "id": "86158098",
   "metadata": {},
   "outputs": [
    {
     "name": "stdout",
     "output_type": "stream",
     "text": [
      "Mean Absolute Error: 6379.7\n",
      "Mean Squared Error: 80250538.62\n",
      "Root Mean Squared Error: 8958.27\n",
      "57.94006072700976\n"
     ]
    }
   ],
   "source": [
    "#Metrics\n",
    "\n",
    "print('Mean Absolute Error:', round(metrics.mean_absolute_error(y_test, y_pred),2))\n",
    "print('Mean Squared Error:', round(metrics.mean_squared_error(y_test, y_pred),2))\n",
    "print('Root Mean Squared Error:', round(np.sqrt(metrics.mean_squared_error(y_test, y_pred)),2))\n",
    "print(reg.score(X_test,y_test)*100)"
   ]
  },
  {
   "cell_type": "code",
   "execution_count": 129,
   "id": "91e7f7ab",
   "metadata": {},
   "outputs": [
    {
     "name": "stdout",
     "output_type": "stream",
     "text": [
      "[15:25:17] WARNING: C:/Users/Administrator/workspace/xgboost-win64_release_1.6.0/src/objective/regression_obj.cu:203: reg:linear is now deprecated in favor of reg:squarederror.\n"
     ]
    }
   ],
   "source": [
    "#Importing XGBoost and testing XGBoost\n",
    "\n",
    "import xgboost as xgb\n",
    "xg_reg = xgb.XGBRegressor(objective ='reg:linear', colsample_bytree = 0.3, learning_rate = 0.1,\n",
    "                max_depth = 55, alpha = 10, n_estimators = 25)\n",
    "\n",
    "xg_reg.fit(X_train,y_train)\n",
    "\n",
    "preds = xg_reg.predict(X_test)"
   ]
  },
  {
   "cell_type": "code",
   "execution_count": 130,
   "id": "f8376bb5",
   "metadata": {},
   "outputs": [
    {
     "name": "stdout",
     "output_type": "stream",
     "text": [
      "Mean Absolute Error: 6379.7\n",
      "Mean Squared Error: 80250538.62\n",
      "Root Mean Squared Error: 8958.27\n",
      "71.16681937105102\n"
     ]
    }
   ],
   "source": [
    "# Metrics\n",
    "\n",
    "print('Mean Absolute Error:', round(metrics.mean_absolute_error(y_test, y_pred),2))\n",
    "print('Mean Squared Error:', round(metrics.mean_squared_error(y_test, y_pred),2))\n",
    "print('Root Mean Squared Error:', round(np.sqrt(metrics.mean_squared_error(y_test, y_pred)),2))\n",
    "print(xg_reg.score(X_test,y_test)*100)"
   ]
  }
 ],
 "metadata": {
  "kernelspec": {
   "display_name": "Python 3 (ipykernel)",
   "language": "python",
   "name": "python3"
  },
  "language_info": {
   "codemirror_mode": {
    "name": "ipython",
    "version": 3
   },
   "file_extension": ".py",
   "mimetype": "text/x-python",
   "name": "python",
   "nbconvert_exporter": "python",
   "pygments_lexer": "ipython3",
   "version": "3.9.12"
  }
 },
 "nbformat": 4,
 "nbformat_minor": 5
}
